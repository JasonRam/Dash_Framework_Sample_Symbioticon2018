{
 "cells": [
  {
   "cell_type": "code",
   "execution_count": null,
   "metadata": {},
   "outputs": [],
   "source": [
    "import eikon as ek\n",
    "import pandas as pd\n",
    "import cufflinks as cf\n",
    "ek.set_app_key('YOUR_APPKEY_HERE') "
   ]
  },
  {
   "cell_type": "markdown",
   "metadata": {},
   "source": [
    "### Get News Headlines "
   ]
  },
  {
   "cell_type": "code",
   "execution_count": null,
   "metadata": {},
   "outputs": [],
   "source": [
    "df = ek.get_news_headlines('R:BMWG.DE AND Language:LDE',count=100)\n",
    "df"
   ]
  },
  {
   "cell_type": "markdown",
   "metadata": {},
   "source": [
    "### Get News Story"
   ]
  },
  {
   "cell_type": "code",
   "execution_count": null,
   "metadata": {},
   "outputs": [],
   "source": [
    "ek.get_news_story(df['storyId'].values[1])"
   ]
  },
  {
   "cell_type": "markdown",
   "metadata": {},
   "source": [
    "### Get timeseries Dataframes and JSON output"
   ]
  },
  {
   "cell_type": "code",
   "execution_count": null,
   "metadata": {},
   "outputs": [],
   "source": [
    "df4 = ek.get_timeseries(rics=\"VOWG_p.DE\",fields=\"CLOSE\", start_date=\"2018-06-01\",end_date=\"2018-11-15\", interval='daily')\n",
    "df4.head()"
   ]
  },
  {
   "cell_type": "markdown",
   "metadata": {},
   "source": [
    "### Get Fundamental or Reference Data (Here we get ESG Data for all companies in DAX)"
   ]
  },
  {
   "cell_type": "code",
   "execution_count": null,
   "metadata": {},
   "outputs": [],
   "source": [
    "RICS = ['0#.GDAXI']\n",
    "fields =['TR.TRBCIndustryGroup','TR.TRESGScore(SDate=0,EDate=-10,Frq=FY)','TR.TRESGResourceUseScore(SDate=0,EDate=-10,FRQ=FY)',\n",
    "         'TR.TRESGEmissionsScore(SDate=0,EDate=-10,FRQ=FY)','TR.TRESGInnovationScore(SDate=0,EDate=-10,FRQ=FY)',\n",
    "         'TR.TRESGWorkforceScore(SDate=0,EDate=-10,Frq=FY)', 'TR.TRESGHumanRightsScore(SDate=0,EDate=-10,Frq=FY)',\n",
    "         'TR.TRESGCommunityScore(SDate=0,EDate=-10,Frq=FY)', 'TR.TRESGProductResponsibilityScore(SDate=0,EDate=-10,Frq=FY)',\n",
    "         'TR.TRESGManagementScore(SDate=0,EDate=-10,Frq=FY)','TR.TRESGCSRStrategyScore(SDate=0,EDate=-10,Frq=FY)',\n",
    "         'TR.TRESGCScore(SDate=0,EDate=-10,Frq=FY)','TR.TRESGCScore(SDate=0,EDate=-10,Frq=FY).date',\n",
    "         'TR.OperatingMarginPercent(SDate=0,EDate=-10,Frq=FY)','TR.TotalReturnYTD(SDate=0,EDate=-10,Frq=FY)','TR.TotalReturnYTD(SDate=0,EDate=-10,Frq=FY).calcdate']\n",
    "\n",
    "ids,err=ek.get_data(RICS,fields=fields)\n",
    "ids.head(11)"
   ]
  },
  {
   "cell_type": "code",
   "execution_count": null,
   "metadata": {},
   "outputs": [],
   "source": []
  }
 ],
 "metadata": {
  "kernelspec": {
   "display_name": "Python 3",
   "language": "python",
   "name": "python3"
  },
  "language_info": {
   "codemirror_mode": {
    "name": "ipython",
    "version": 3
   },
   "file_extension": ".py",
   "mimetype": "text/x-python",
   "name": "python",
   "nbconvert_exporter": "python",
   "pygments_lexer": "ipython3",
   "version": "3.6.7"
  }
 },
 "nbformat": 4,
 "nbformat_minor": 2
}
